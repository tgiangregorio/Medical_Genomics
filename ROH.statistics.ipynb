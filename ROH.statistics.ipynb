{
  "nbformat": 4,
  "nbformat_minor": 0,
  "metadata": {
    "colab": {
      "name": "Untitled2.ipynb",
      "provenance": [],
      "authorship_tag": "ABX9TyMNaq/zDs+RSMPNvDbECANZ",
      "include_colab_link": true
    },
    "kernelspec": {
      "name": "ir",
      "display_name": "R"
    },
    "language_info": {
      "name": "R"
    }
  },
  "cells": [
    {
      "cell_type": "markdown",
      "metadata": {
        "id": "view-in-github",
        "colab_type": "text"
      },
      "source": [
        "<a href=\"https://colab.research.google.com/github/tgiangregorio/Medical_Genomics/blob/main/ROH.statistics.ipynb\" target=\"_parent\"><img src=\"https://colab.research.google.com/assets/colab-badge.svg\" alt=\"Open In Colab\"/></a>"
      ]
    },
    {
      "cell_type": "markdown",
      "metadata": {
        "id": "GL09wWtosGQJ"
      },
      "source": [
        "**ROH** calling with Audacity from WES of inbred and outbred proband\n",
        "Loading Audacity output "
      ]
    },
    {
      "cell_type": "code",
      "metadata": {
        "id": "XdmUVhl9xAKg",
        "outputId": "925a47f2-9459-42ef-a84e-6412db32bcc1",
        "colab": {
          "base_uri": "https://localhost:8080/"
        }
      },
      "source": [
        "install.packages(\"ggpubr\")\n",
        "library(dplyr)\n",
        "library(ggplot2)\n",
        "library(ggpubr)"
      ],
      "execution_count": null,
      "outputs": [
        {
          "output_type": "stream",
          "text": [
            "Installing package into ‘/usr/local/lib/R/site-library’\n",
            "(as ‘lib’ is unspecified)\n",
            "\n",
            "also installing the dependencies ‘matrixStats’, ‘RcppArmadillo’, ‘numDeriv’, ‘SparseM’, ‘MatrixModels’, ‘conquer’, ‘sp’, ‘openxlsx’, ‘minqa’, ‘nloptr’, ‘statmod’, ‘RcppEigen’, ‘carData’, ‘abind’, ‘pbkrtest’, ‘quantreg’, ‘maptools’, ‘rio’, ‘lme4’, ‘corrplot’, ‘car’, ‘ggrepel’, ‘ggsci’, ‘cowplot’, ‘ggsignif’, ‘gridExtra’, ‘polynom’, ‘rstatix’\n",
            "\n",
            "\n",
            "Warning message in install.packages(\"ggpubr\"):\n",
            "“installation of package ‘RcppEigen’ had non-zero exit status”\n",
            "Warning message in install.packages(\"ggpubr\"):\n",
            "“installation of package ‘ggrepel’ had non-zero exit status”\n",
            "Warning message in install.packages(\"ggpubr\"):\n",
            "“installation of package ‘ggsci’ had non-zero exit status”\n"
          ],
          "name": "stderr"
        }
      ]
    },
    {
      "cell_type": "code",
      "metadata": {
        "id": "buhet4lvq2IW",
        "outputId": "6265610e-ef69-4cf8-ae2f-e610e61137af",
        "colab": {
          "base_uri": "https://localhost:8080/",
          "height": 283
        }
      },
      "source": [
        "AudacityROHResult<-read.delim(\"https://raw.githubusercontent.com/tgiangregorio/Medical_Genomics/main/AudacityROHresults.txt\", sep=\"\\t\", header=TRUE, na.strings = \"NA\", stringsAsFactors = T)\n",
        "head(AudacityROHResult)\n"
      ],
      "execution_count": 5,
      "outputs": [
        {
          "output_type": "display_data",
          "data": {
            "text/plain": [
              "  ID  Chrom Start     End       Length n_Hom_R n_Hom_A n_Het Score     \n",
              "1 I01 chr2   27245011  27746394 501383 993     26      5      4.2251317\n",
              "2 I01 chr2   96930843  97039158 108315 212     12      0      9.0521127\n",
              "3 I01 chr10  96256984  97082649 825665 284     22      1     13.1372629\n",
              "4 I01 chr2   95537245  96517570 980325 318      8      2      0.1589894\n",
              "5 I01 chr16  70285001  70930069 645068 715     13      3      6.7389611\n",
              "6 I01 chr2  220032814 220252583 219769 497     30      1      5.5739814\n",
              "  Status        \n",
              "1 consanguineous\n",
              "2 consanguineous\n",
              "3 consanguineous\n",
              "4 consanguineous\n",
              "5 consanguineous\n",
              "6 consanguineous"
            ],
            "text/latex": "A data.frame: 6 × 10\n\\begin{tabular}{r|llllllllll}\n  & ID & Chrom & Start & End & Length & n\\_Hom\\_R & n\\_Hom\\_A & n\\_Het & Score & Status\\\\\n  & <fct> & <fct> & <int> & <int> & <int> & <int> & <int> & <int> & <dbl> & <fct>\\\\\n\\hline\n\t1 & I01 & chr2  &  27245011 &  27746394 & 501383 & 993 & 26 & 5 &  4.2251317 & consanguineous\\\\\n\t2 & I01 & chr2  &  96930843 &  97039158 & 108315 & 212 & 12 & 0 &  9.0521127 & consanguineous\\\\\n\t3 & I01 & chr10 &  96256984 &  97082649 & 825665 & 284 & 22 & 1 & 13.1372629 & consanguineous\\\\\n\t4 & I01 & chr2  &  95537245 &  96517570 & 980325 & 318 &  8 & 2 &  0.1589894 & consanguineous\\\\\n\t5 & I01 & chr16 &  70285001 &  70930069 & 645068 & 715 & 13 & 3 &  6.7389611 & consanguineous\\\\\n\t6 & I01 & chr2  & 220032814 & 220252583 & 219769 & 497 & 30 & 1 &  5.5739814 & consanguineous\\\\\n\\end{tabular}\n",
            "text/markdown": "\nA data.frame: 6 × 10\n\n| <!--/--> | ID &lt;fct&gt; | Chrom &lt;fct&gt; | Start &lt;int&gt; | End &lt;int&gt; | Length &lt;int&gt; | n_Hom_R &lt;int&gt; | n_Hom_A &lt;int&gt; | n_Het &lt;int&gt; | Score &lt;dbl&gt; | Status &lt;fct&gt; |\n|---|---|---|---|---|---|---|---|---|---|---|\n| 1 | I01 | chr2  |  27245011 |  27746394 | 501383 | 993 | 26 | 5 |  4.2251317 | consanguineous |\n| 2 | I01 | chr2  |  96930843 |  97039158 | 108315 | 212 | 12 | 0 |  9.0521127 | consanguineous |\n| 3 | I01 | chr10 |  96256984 |  97082649 | 825665 | 284 | 22 | 1 | 13.1372629 | consanguineous |\n| 4 | I01 | chr2  |  95537245 |  96517570 | 980325 | 318 |  8 | 2 |  0.1589894 | consanguineous |\n| 5 | I01 | chr16 |  70285001 |  70930069 | 645068 | 715 | 13 | 3 |  6.7389611 | consanguineous |\n| 6 | I01 | chr2  | 220032814 | 220252583 | 219769 | 497 | 30 | 1 |  5.5739814 | consanguineous |\n\n",
            "text/html": [
              "<table class=\"dataframe\">\n",
              "<caption>A data.frame: 6 × 10</caption>\n",
              "<thead>\n",
              "\t<tr><th></th><th scope=col>ID</th><th scope=col>Chrom</th><th scope=col>Start</th><th scope=col>End</th><th scope=col>Length</th><th scope=col>n_Hom_R</th><th scope=col>n_Hom_A</th><th scope=col>n_Het</th><th scope=col>Score</th><th scope=col>Status</th></tr>\n",
              "\t<tr><th></th><th scope=col>&lt;fct&gt;</th><th scope=col>&lt;fct&gt;</th><th scope=col>&lt;int&gt;</th><th scope=col>&lt;int&gt;</th><th scope=col>&lt;int&gt;</th><th scope=col>&lt;int&gt;</th><th scope=col>&lt;int&gt;</th><th scope=col>&lt;int&gt;</th><th scope=col>&lt;dbl&gt;</th><th scope=col>&lt;fct&gt;</th></tr>\n",
              "</thead>\n",
              "<tbody>\n",
              "\t<tr><th scope=row>1</th><td>I01</td><td>chr2 </td><td> 27245011</td><td> 27746394</td><td>501383</td><td>993</td><td>26</td><td>5</td><td> 4.2251317</td><td>consanguineous</td></tr>\n",
              "\t<tr><th scope=row>2</th><td>I01</td><td>chr2 </td><td> 96930843</td><td> 97039158</td><td>108315</td><td>212</td><td>12</td><td>0</td><td> 9.0521127</td><td>consanguineous</td></tr>\n",
              "\t<tr><th scope=row>3</th><td>I01</td><td>chr10</td><td> 96256984</td><td> 97082649</td><td>825665</td><td>284</td><td>22</td><td>1</td><td>13.1372629</td><td>consanguineous</td></tr>\n",
              "\t<tr><th scope=row>4</th><td>I01</td><td>chr2 </td><td> 95537245</td><td> 96517570</td><td>980325</td><td>318</td><td> 8</td><td>2</td><td> 0.1589894</td><td>consanguineous</td></tr>\n",
              "\t<tr><th scope=row>5</th><td>I01</td><td>chr16</td><td> 70285001</td><td> 70930069</td><td>645068</td><td>715</td><td>13</td><td>3</td><td> 6.7389611</td><td>consanguineous</td></tr>\n",
              "\t<tr><th scope=row>6</th><td>I01</td><td>chr2 </td><td>220032814</td><td>220252583</td><td>219769</td><td>497</td><td>30</td><td>1</td><td> 5.5739814</td><td>consanguineous</td></tr>\n",
              "</tbody>\n",
              "</table>\n"
            ]
          },
          "metadata": {
            "tags": []
          }
        }
      ]
    },
    {
      "cell_type": "code",
      "metadata": {
        "colab": {
          "base_uri": "https://localhost:8080/",
          "height": 425
        },
        "id": "vKpv1md7urnd",
        "outputId": "b3f8590b-4f58-432e-a47d-085ad4c412a4"
      },
      "source": [
        "summary(AudacityROHResult)\n"
      ],
      "execution_count": 17,
      "outputs": [
        {
          "output_type": "display_data",
          "data": {
            "text/plain": [
              "       ID           Chrom          Start                End           \n",
              " I14    : 235   chr1   : 426   Min.   :    41509   Min.   :   196447  \n",
              " I11    : 233   chr2   : 349   1st Qu.: 33641250   1st Qu.: 34925543  \n",
              " I12    : 230   chr19  : 289   Median : 60468254   Median : 61323668  \n",
              " I17    : 228   chr11  : 271   Mean   : 74684827   Mean   : 75913772  \n",
              " I16    : 226   chr3   : 248   3rd Qu.:109335977   3rd Qu.:110874514  \n",
              " I07    : 223   chr12  : 209   Max.   :249106111   Max.   :249212633  \n",
              " (Other):2662   (Other):2245                                          \n",
              "     Length            n_Hom_R           n_Hom_A           n_Het       \n",
              " Min.   :     374   Min.   :   21.0   Min.   :  0.00   Min.   : 0.000  \n",
              " 1st Qu.:  310707   1st Qu.:  230.0   1st Qu.:  6.00   1st Qu.: 0.000  \n",
              " Median :  572945   Median :  334.0   Median : 13.00   Median : 1.000  \n",
              " Mean   : 1228945   Mean   :  494.6   Mean   : 21.53   Mean   : 1.547  \n",
              " 3rd Qu.: 1122195   3rd Qu.:  518.0   3rd Qu.: 24.00   3rd Qu.: 2.000  \n",
              " Max.   :31555008   Max.   :10322.0   Max.   :509.00   Max.   :21.000  \n",
              "                                                                       \n",
              "     Score                        Status    \n",
              " Min.   :  0.000   consanguineous    :1836  \n",
              " 1st Qu.:  1.879   non-consanguineous:2201  \n",
              " Median :  4.888                            \n",
              " Mean   : 12.170                            \n",
              " 3rd Qu.: 11.122                            \n",
              " Max.   :430.579                            \n",
              "                                            "
            ]
          },
          "metadata": {
            "tags": []
          }
        }
      ]
    },
    {
      "cell_type": "markdown",
      "metadata": {
        "id": "DWVVhfVzvFAW"
      },
      "source": [
        ""
      ]
    },
    {
      "cell_type": "code",
      "metadata": {
        "id": "KtaV-TzgvL3j",
        "outputId": "95f39a8c-6e1e-4749-baf1-8c94cf450fb1",
        "colab": {
          "base_uri": "https://localhost:8080/"
        }
      },
      "source": [
        "str(AudacityROHResult)"
      ],
      "execution_count": 10,
      "outputs": [
        {
          "output_type": "stream",
          "text": [
            "'data.frame':\t4037 obs. of  10 variables:\n",
            " $ ID     : Factor w/ 20 levels \"I01\",\"I02\",\"I03\",..: 1 1 1 1 1 1 1 1 1 1 ...\n",
            " $ Chrom  : Factor w/ 22 levels \"chr1\",\"chr10\",..: 12 12 2 12 8 12 3 3 16 2 ...\n",
            " $ Start  : int  27245011 96930843 96256984 95537245 70285001 220032814 71595703 7949192 4669380 81316888 ...\n",
            " $ End    : int  27746394 97039158 97082649 96517570 70930069 220252583 71850960 8246181 5257570 82403836 ...\n",
            " $ Length : int  501383 108315 825665 980325 645068 219769 255257 296989 588190 1086948 ...\n",
            " $ n_Hom_R: int  993 212 284 318 715 497 248 193 285 421 ...\n",
            " $ n_Hom_A: int  26 12 22 8 13 30 10 13 8 33 ...\n",
            " $ n_Het  : int  5 0 1 2 3 1 0 0 1 2 ...\n",
            " $ Score  : num  4.225 9.052 13.137 0.159 6.739 ...\n",
            " $ Status : Factor w/ 2 levels \"consanguineous\",..: 1 1 1 1 1 1 1 1 1 1 ...\n"
          ],
          "name": "stdout"
        }
      ]
    },
    {
      "cell_type": "code",
      "metadata": {
        "id": "Me3u3NwnuI1Z",
        "outputId": "19ff2adf-7be0-4494-8fb1-9db6a300c380",
        "colab": {
          "base_uri": "https://localhost:8080/",
          "height": 751
        }
      },
      "source": [
        "ROHSummary<- AudacityROHResult %>% \n",
        "  group_by(ID,  Status) %>% \n",
        "  summarize(ScoreROH=sum(Score),sROH=sum(Length),nROH=n())\n",
        "\n",
        "ROHSummary"
      ],
      "execution_count": 15,
      "outputs": [
        {
          "output_type": "stream",
          "text": [
            "`summarise()` has grouped output by 'ID'. You can override using the `.groups` argument.\n",
            "\n"
          ],
          "name": "stderr"
        },
        {
          "output_type": "display_data",
          "data": {
            "text/plain": [
              "   ID  Status             ScoreROH sROH      nROH\n",
              "1  I01 consanguineous     2049.126 204795717 184 \n",
              "2  I02 consanguineous     2176.878 250324026 183 \n",
              "3  I03 consanguineous     4412.579 302063354 152 \n",
              "4  I04 consanguineous     3004.416 298256424 201 \n",
              "5  I05 consanguineous     3996.517 413926132 172 \n",
              "6  I06 consanguineous     3935.773 371698619 203 \n",
              "7  I07 consanguineous     3501.694 341934112 223 \n",
              "8  I08 consanguineous     3994.593 384085682 183 \n",
              "9  I09 consanguineous     1626.344 178406590 158 \n",
              "10 I10 consanguineous     5435.481 519911564 177 \n",
              "11 I11 non-consanguineous 1533.468 162141328 233 \n",
              "12 I12 non-consanguineous 1529.354 173891676 230 \n",
              "13 I13 non-consanguineous 1225.270 144208127 174 \n",
              "14 I14 non-consanguineous 1555.008 170784372 235 \n",
              "15 I15 non-consanguineous 1492.130 168188498 221 \n",
              "16 I16 non-consanguineous 1465.781 177131989 226 \n",
              "17 I17 non-consanguineous 1677.652 174434311 228 \n",
              "18 I18 non-consanguineous 1604.411 180622723 222 \n",
              "19 I19 non-consanguineous 1503.033 184186167 216 \n",
              "20 I20 non-consanguineous 1409.939 160261395 216 "
            ],
            "text/latex": "A grouped\\_df: 20 × 5\n\\begin{tabular}{lllll}\n ID & Status & ScoreROH & sROH & nROH\\\\\n <fct> & <fct> & <dbl> & <int> & <int>\\\\\n\\hline\n\t I01 & consanguineous     & 2049.126 & 204795717 & 184\\\\\n\t I02 & consanguineous     & 2176.878 & 250324026 & 183\\\\\n\t I03 & consanguineous     & 4412.579 & 302063354 & 152\\\\\n\t I04 & consanguineous     & 3004.416 & 298256424 & 201\\\\\n\t I05 & consanguineous     & 3996.517 & 413926132 & 172\\\\\n\t I06 & consanguineous     & 3935.773 & 371698619 & 203\\\\\n\t I07 & consanguineous     & 3501.694 & 341934112 & 223\\\\\n\t I08 & consanguineous     & 3994.593 & 384085682 & 183\\\\\n\t I09 & consanguineous     & 1626.344 & 178406590 & 158\\\\\n\t I10 & consanguineous     & 5435.481 & 519911564 & 177\\\\\n\t I11 & non-consanguineous & 1533.468 & 162141328 & 233\\\\\n\t I12 & non-consanguineous & 1529.354 & 173891676 & 230\\\\\n\t I13 & non-consanguineous & 1225.270 & 144208127 & 174\\\\\n\t I14 & non-consanguineous & 1555.008 & 170784372 & 235\\\\\n\t I15 & non-consanguineous & 1492.130 & 168188498 & 221\\\\\n\t I16 & non-consanguineous & 1465.781 & 177131989 & 226\\\\\n\t I17 & non-consanguineous & 1677.652 & 174434311 & 228\\\\\n\t I18 & non-consanguineous & 1604.411 & 180622723 & 222\\\\\n\t I19 & non-consanguineous & 1503.033 & 184186167 & 216\\\\\n\t I20 & non-consanguineous & 1409.939 & 160261395 & 216\\\\\n\\end{tabular}\n",
            "text/markdown": "\nA grouped_df: 20 × 5\n\n| ID &lt;fct&gt; | Status &lt;fct&gt; | ScoreROH &lt;dbl&gt; | sROH &lt;int&gt; | nROH &lt;int&gt; |\n|---|---|---|---|---|\n| I01 | consanguineous     | 2049.126 | 204795717 | 184 |\n| I02 | consanguineous     | 2176.878 | 250324026 | 183 |\n| I03 | consanguineous     | 4412.579 | 302063354 | 152 |\n| I04 | consanguineous     | 3004.416 | 298256424 | 201 |\n| I05 | consanguineous     | 3996.517 | 413926132 | 172 |\n| I06 | consanguineous     | 3935.773 | 371698619 | 203 |\n| I07 | consanguineous     | 3501.694 | 341934112 | 223 |\n| I08 | consanguineous     | 3994.593 | 384085682 | 183 |\n| I09 | consanguineous     | 1626.344 | 178406590 | 158 |\n| I10 | consanguineous     | 5435.481 | 519911564 | 177 |\n| I11 | non-consanguineous | 1533.468 | 162141328 | 233 |\n| I12 | non-consanguineous | 1529.354 | 173891676 | 230 |\n| I13 | non-consanguineous | 1225.270 | 144208127 | 174 |\n| I14 | non-consanguineous | 1555.008 | 170784372 | 235 |\n| I15 | non-consanguineous | 1492.130 | 168188498 | 221 |\n| I16 | non-consanguineous | 1465.781 | 177131989 | 226 |\n| I17 | non-consanguineous | 1677.652 | 174434311 | 228 |\n| I18 | non-consanguineous | 1604.411 | 180622723 | 222 |\n| I19 | non-consanguineous | 1503.033 | 184186167 | 216 |\n| I20 | non-consanguineous | 1409.939 | 160261395 | 216 |\n\n",
            "text/html": [
              "<table class=\"dataframe\">\n",
              "<caption>A grouped_df: 20 × 5</caption>\n",
              "<thead>\n",
              "\t<tr><th scope=col>ID</th><th scope=col>Status</th><th scope=col>ScoreROH</th><th scope=col>sROH</th><th scope=col>nROH</th></tr>\n",
              "\t<tr><th scope=col>&lt;fct&gt;</th><th scope=col>&lt;fct&gt;</th><th scope=col>&lt;dbl&gt;</th><th scope=col>&lt;int&gt;</th><th scope=col>&lt;int&gt;</th></tr>\n",
              "</thead>\n",
              "<tbody>\n",
              "\t<tr><td>I01</td><td>consanguineous    </td><td>2049.126</td><td>204795717</td><td>184</td></tr>\n",
              "\t<tr><td>I02</td><td>consanguineous    </td><td>2176.878</td><td>250324026</td><td>183</td></tr>\n",
              "\t<tr><td>I03</td><td>consanguineous    </td><td>4412.579</td><td>302063354</td><td>152</td></tr>\n",
              "\t<tr><td>I04</td><td>consanguineous    </td><td>3004.416</td><td>298256424</td><td>201</td></tr>\n",
              "\t<tr><td>I05</td><td>consanguineous    </td><td>3996.517</td><td>413926132</td><td>172</td></tr>\n",
              "\t<tr><td>I06</td><td>consanguineous    </td><td>3935.773</td><td>371698619</td><td>203</td></tr>\n",
              "\t<tr><td>I07</td><td>consanguineous    </td><td>3501.694</td><td>341934112</td><td>223</td></tr>\n",
              "\t<tr><td>I08</td><td>consanguineous    </td><td>3994.593</td><td>384085682</td><td>183</td></tr>\n",
              "\t<tr><td>I09</td><td>consanguineous    </td><td>1626.344</td><td>178406590</td><td>158</td></tr>\n",
              "\t<tr><td>I10</td><td>consanguineous    </td><td>5435.481</td><td>519911564</td><td>177</td></tr>\n",
              "\t<tr><td>I11</td><td>non-consanguineous</td><td>1533.468</td><td>162141328</td><td>233</td></tr>\n",
              "\t<tr><td>I12</td><td>non-consanguineous</td><td>1529.354</td><td>173891676</td><td>230</td></tr>\n",
              "\t<tr><td>I13</td><td>non-consanguineous</td><td>1225.270</td><td>144208127</td><td>174</td></tr>\n",
              "\t<tr><td>I14</td><td>non-consanguineous</td><td>1555.008</td><td>170784372</td><td>235</td></tr>\n",
              "\t<tr><td>I15</td><td>non-consanguineous</td><td>1492.130</td><td>168188498</td><td>221</td></tr>\n",
              "\t<tr><td>I16</td><td>non-consanguineous</td><td>1465.781</td><td>177131989</td><td>226</td></tr>\n",
              "\t<tr><td>I17</td><td>non-consanguineous</td><td>1677.652</td><td>174434311</td><td>228</td></tr>\n",
              "\t<tr><td>I18</td><td>non-consanguineous</td><td>1604.411</td><td>180622723</td><td>222</td></tr>\n",
              "\t<tr><td>I19</td><td>non-consanguineous</td><td>1503.033</td><td>184186167</td><td>216</td></tr>\n",
              "\t<tr><td>I20</td><td>non-consanguineous</td><td>1409.939</td><td>160261395</td><td>216</td></tr>\n",
              "</tbody>\n",
              "</table>\n"
            ]
          },
          "metadata": {
            "tags": []
          }
        }
      ]
    },
    {
      "cell_type": "code",
      "metadata": {
        "colab": {
          "base_uri": "https://localhost:8080/",
          "height": 751
        },
        "id": "-TMnvrBIuM1x",
        "outputId": "797a4dff-9b9c-423e-851a-09692796b991"
      },
      "source": [
        "ROHSummary_1.5Mb<- AudacityROHResult %>% \n",
        "  filter(Length>1500000) %>% \n",
        "  group_by(ID,  Status) %>% \n",
        "  summarize(ScoreROH=sum(Score),sROH=sum(Length),nROH=n())\n",
        "\n",
        "  ROHSummary_1.5Mb"
      ],
      "execution_count": 22,
      "outputs": [
        {
          "output_type": "stream",
          "text": [
            "`summarise()` has grouped output by 'ID'. You can override using the `.groups` argument.\n",
            "\n"
          ],
          "name": "stderr"
        },
        {
          "output_type": "display_data",
          "data": {
            "text/plain": [
              "   ID  Status             ScoreROH  sROH      nROH\n",
              "1  I01 consanguineous      959.7029 115173982 36  \n",
              "2  I02 consanguineous     1277.3736 176948904 40  \n",
              "3  I03 consanguineous     3267.9328 242769024 38  \n",
              "4  I04 consanguineous     1744.6342 206046124 40  \n",
              "5  I05 consanguineous     2945.2749 341612047 63  \n",
              "6  I06 consanguineous     2782.9252 288095117 66  \n",
              "7  I07 consanguineous     2007.9762 244375629 51  \n",
              "8  I08 consanguineous     2328.1807 306723454 60  \n",
              "9  I09 consanguineous      725.1928 106509219 23  \n",
              "10 I10 consanguineous     4659.9662 459815347 68  \n",
              "11 I11 non-consanguineous  308.5072  54182911 20  \n",
              "12 I12 non-consanguineous  150.4192  73044947 29  \n",
              "13 I13 non-consanguineous  156.3976  61314377 21  \n",
              "14 I14 non-consanguineous  265.5916  71104188 28  \n",
              "15 I15 non-consanguineous  341.7955  78056869 30  \n",
              "16 I16 non-consanguineous  162.2941  72718462 29  \n",
              "17 I17 non-consanguineous  304.7005  66045779 27  \n",
              "18 I18 non-consanguineous  204.3652  75829675 23  \n",
              "19 I19 non-consanguineous  160.1466  77677543 26  \n",
              "20 I20 non-consanguineous  124.7171  58448462 24  "
            ],
            "text/latex": "A grouped\\_df: 20 × 5\n\\begin{tabular}{lllll}\n ID & Status & ScoreROH & sROH & nROH\\\\\n <fct> & <fct> & <dbl> & <int> & <int>\\\\\n\\hline\n\t I01 & consanguineous     &  959.7029 & 115173982 & 36\\\\\n\t I02 & consanguineous     & 1277.3736 & 176948904 & 40\\\\\n\t I03 & consanguineous     & 3267.9328 & 242769024 & 38\\\\\n\t I04 & consanguineous     & 1744.6342 & 206046124 & 40\\\\\n\t I05 & consanguineous     & 2945.2749 & 341612047 & 63\\\\\n\t I06 & consanguineous     & 2782.9252 & 288095117 & 66\\\\\n\t I07 & consanguineous     & 2007.9762 & 244375629 & 51\\\\\n\t I08 & consanguineous     & 2328.1807 & 306723454 & 60\\\\\n\t I09 & consanguineous     &  725.1928 & 106509219 & 23\\\\\n\t I10 & consanguineous     & 4659.9662 & 459815347 & 68\\\\\n\t I11 & non-consanguineous &  308.5072 &  54182911 & 20\\\\\n\t I12 & non-consanguineous &  150.4192 &  73044947 & 29\\\\\n\t I13 & non-consanguineous &  156.3976 &  61314377 & 21\\\\\n\t I14 & non-consanguineous &  265.5916 &  71104188 & 28\\\\\n\t I15 & non-consanguineous &  341.7955 &  78056869 & 30\\\\\n\t I16 & non-consanguineous &  162.2941 &  72718462 & 29\\\\\n\t I17 & non-consanguineous &  304.7005 &  66045779 & 27\\\\\n\t I18 & non-consanguineous &  204.3652 &  75829675 & 23\\\\\n\t I19 & non-consanguineous &  160.1466 &  77677543 & 26\\\\\n\t I20 & non-consanguineous &  124.7171 &  58448462 & 24\\\\\n\\end{tabular}\n",
            "text/markdown": "\nA grouped_df: 20 × 5\n\n| ID &lt;fct&gt; | Status &lt;fct&gt; | ScoreROH &lt;dbl&gt; | sROH &lt;int&gt; | nROH &lt;int&gt; |\n|---|---|---|---|---|\n| I01 | consanguineous     |  959.7029 | 115173982 | 36 |\n| I02 | consanguineous     | 1277.3736 | 176948904 | 40 |\n| I03 | consanguineous     | 3267.9328 | 242769024 | 38 |\n| I04 | consanguineous     | 1744.6342 | 206046124 | 40 |\n| I05 | consanguineous     | 2945.2749 | 341612047 | 63 |\n| I06 | consanguineous     | 2782.9252 | 288095117 | 66 |\n| I07 | consanguineous     | 2007.9762 | 244375629 | 51 |\n| I08 | consanguineous     | 2328.1807 | 306723454 | 60 |\n| I09 | consanguineous     |  725.1928 | 106509219 | 23 |\n| I10 | consanguineous     | 4659.9662 | 459815347 | 68 |\n| I11 | non-consanguineous |  308.5072 |  54182911 | 20 |\n| I12 | non-consanguineous |  150.4192 |  73044947 | 29 |\n| I13 | non-consanguineous |  156.3976 |  61314377 | 21 |\n| I14 | non-consanguineous |  265.5916 |  71104188 | 28 |\n| I15 | non-consanguineous |  341.7955 |  78056869 | 30 |\n| I16 | non-consanguineous |  162.2941 |  72718462 | 29 |\n| I17 | non-consanguineous |  304.7005 |  66045779 | 27 |\n| I18 | non-consanguineous |  204.3652 |  75829675 | 23 |\n| I19 | non-consanguineous |  160.1466 |  77677543 | 26 |\n| I20 | non-consanguineous |  124.7171 |  58448462 | 24 |\n\n",
            "text/html": [
              "<table class=\"dataframe\">\n",
              "<caption>A grouped_df: 20 × 5</caption>\n",
              "<thead>\n",
              "\t<tr><th scope=col>ID</th><th scope=col>Status</th><th scope=col>ScoreROH</th><th scope=col>sROH</th><th scope=col>nROH</th></tr>\n",
              "\t<tr><th scope=col>&lt;fct&gt;</th><th scope=col>&lt;fct&gt;</th><th scope=col>&lt;dbl&gt;</th><th scope=col>&lt;int&gt;</th><th scope=col>&lt;int&gt;</th></tr>\n",
              "</thead>\n",
              "<tbody>\n",
              "\t<tr><td>I01</td><td>consanguineous    </td><td> 959.7029</td><td>115173982</td><td>36</td></tr>\n",
              "\t<tr><td>I02</td><td>consanguineous    </td><td>1277.3736</td><td>176948904</td><td>40</td></tr>\n",
              "\t<tr><td>I03</td><td>consanguineous    </td><td>3267.9328</td><td>242769024</td><td>38</td></tr>\n",
              "\t<tr><td>I04</td><td>consanguineous    </td><td>1744.6342</td><td>206046124</td><td>40</td></tr>\n",
              "\t<tr><td>I05</td><td>consanguineous    </td><td>2945.2749</td><td>341612047</td><td>63</td></tr>\n",
              "\t<tr><td>I06</td><td>consanguineous    </td><td>2782.9252</td><td>288095117</td><td>66</td></tr>\n",
              "\t<tr><td>I07</td><td>consanguineous    </td><td>2007.9762</td><td>244375629</td><td>51</td></tr>\n",
              "\t<tr><td>I08</td><td>consanguineous    </td><td>2328.1807</td><td>306723454</td><td>60</td></tr>\n",
              "\t<tr><td>I09</td><td>consanguineous    </td><td> 725.1928</td><td>106509219</td><td>23</td></tr>\n",
              "\t<tr><td>I10</td><td>consanguineous    </td><td>4659.9662</td><td>459815347</td><td>68</td></tr>\n",
              "\t<tr><td>I11</td><td>non-consanguineous</td><td> 308.5072</td><td> 54182911</td><td>20</td></tr>\n",
              "\t<tr><td>I12</td><td>non-consanguineous</td><td> 150.4192</td><td> 73044947</td><td>29</td></tr>\n",
              "\t<tr><td>I13</td><td>non-consanguineous</td><td> 156.3976</td><td> 61314377</td><td>21</td></tr>\n",
              "\t<tr><td>I14</td><td>non-consanguineous</td><td> 265.5916</td><td> 71104188</td><td>28</td></tr>\n",
              "\t<tr><td>I15</td><td>non-consanguineous</td><td> 341.7955</td><td> 78056869</td><td>30</td></tr>\n",
              "\t<tr><td>I16</td><td>non-consanguineous</td><td> 162.2941</td><td> 72718462</td><td>29</td></tr>\n",
              "\t<tr><td>I17</td><td>non-consanguineous</td><td> 304.7005</td><td> 66045779</td><td>27</td></tr>\n",
              "\t<tr><td>I18</td><td>non-consanguineous</td><td> 204.3652</td><td> 75829675</td><td>23</td></tr>\n",
              "\t<tr><td>I19</td><td>non-consanguineous</td><td> 160.1466</td><td> 77677543</td><td>26</td></tr>\n",
              "\t<tr><td>I20</td><td>non-consanguineous</td><td> 124.7171</td><td> 58448462</td><td>24</td></tr>\n",
              "</tbody>\n",
              "</table>\n"
            ]
          },
          "metadata": {
            "tags": []
          }
        }
      ]
    },
    {
      "cell_type": "code",
      "metadata": {
        "id": "oWl1Q0XjycXi",
        "outputId": "aa958bc5-ace6-4ed0-bff0-c4541075a80e",
        "colab": {
          "base_uri": "https://localhost:8080/",
          "height": 289
        }
      },
      "source": [
        "#summary(ROHSummary_1.5Mb)"
      ],
      "execution_count": 23,
      "outputs": [
        {
          "output_type": "display_data",
          "data": {
            "text/plain": [
              "       ID                    Status      ScoreROH           sROH          \n",
              " I01    : 1   consanguineous    :10   Min.   : 124.7   Min.   : 54182911  \n",
              " I02    : 1   non-consanguineous:10   1st Qu.: 193.8   1st Qu.: 72314894  \n",
              " I03    : 1                           Median : 533.5   Median : 92283044  \n",
              " I04    : 1                           Mean   :1243.9   Mean   :158824603  \n",
              " I05    : 1                           3rd Qu.:2088.0   3rd Qu.:243170675  \n",
              " I06    : 1                           Max.   :4660.0   Max.   :459815347  \n",
              " (Other):14                                                               \n",
              "      nROH      \n",
              " Min.   :20.00  \n",
              " 1st Qu.:25.50  \n",
              " Median :29.50  \n",
              " Mean   :37.10  \n",
              " 3rd Qu.:42.75  \n",
              " Max.   :68.00  \n",
              "                "
            ]
          },
          "metadata": {
            "tags": []
          }
        }
      ]
    },
    {
      "cell_type": "code",
      "metadata": {
        "id": "Gj9wVxKB1P9s"
      },
      "source": [
        "a<-ggplot(ROHSummary, aes(x=Status,y=sROH, fill=Status)) + geom_violin(trim = FALSE) + geom_boxplot(width=0.1) + ggtitle(\"SROHS\")\n",
        "e<-ggplot(ROHSummary_1.5Mb, aes(x=Status,y=sROH, fill=Status)) + geom_violin(trim = FALSE) + geom_boxplot(width=0.1) + ggtitle(\"SROHS\")\n",
        "\n",
        "\n",
        "b<-ggplot(ROHSummary, aes(x=Status,y= ScoreROH, fill=Status)) + geom_violin(trim = FALSE) + geom_boxplot(width=0.1, fill=\"white\") \n",
        "c<-ggplot(ROHSummary, aes(x=Status,y= nROHs, fill=Status)) + geom_violin(trim = FALSE) + geom_boxplot(width=0.1, fill=\"white\")\n",
        "d<-ggplot(ROHSummary, aes(x = sROH, y = nROH)) + geom_point(aes(colour = factor(Status)))\n",
        "\n",
        "f<-ggplot(ROHSummary_1.5Mb, aes(x=Status,y= ScoreROH, fill=Status)) + geom_violin(trim = FALSE) + geom_boxplot(width=0.1, fill=\"white\") \n",
        "g<-ggplot(ROHSummary_1.5Mb, aes(x=Status,y= nROHs, fill=Status)) + geom_violin(trim = FALSE) + geom_boxplot(width=0.1, fill=\"white\")\n",
        "h<-ggplot(ROHSummary_1.5Mb, aes(x = sROH, y = nROH)) + geom_point(aes(colour = factor(Status)))\n"
      ],
      "execution_count": null,
      "outputs": []
    }
  ]
}