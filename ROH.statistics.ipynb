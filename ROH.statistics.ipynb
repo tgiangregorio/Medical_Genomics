{
  "nbformat": 4,
  "nbformat_minor": 0,
  "metadata": {
    "colab": {
      "name": "Untitled2.ipynb",
      "provenance": [],
      "authorship_tag": "ABX9TyMRxfAVfmCHZOojvIbxwANM",
      "include_colab_link": true
    },
    "kernelspec": {
      "name": "ir",
      "display_name": "R"
    },
    "language_info": {
      "name": "R"
    }
  },
  "cells": [
    {
      "cell_type": "markdown",
      "metadata": {
        "id": "view-in-github",
        "colab_type": "text"
      },
      "source": [
        "<a href=\"https://colab.research.google.com/github/tgiangregorio/Medical_Genomics/blob/main/ROH.statistics.ipynb\" target=\"_parent\"><img src=\"https://colab.research.google.com/assets/colab-badge.svg\" alt=\"Open In Colab\"/></a>"
      ]
    },
    {
      "cell_type": "markdown",
      "metadata": {
        "id": "GL09wWtosGQJ"
      },
      "source": [
        "####***Runs of Homozygosity (ROH) from WES data: inbred vs outbred cohort***"
      ]
    },
    {
      "cell_type": "markdown",
      "metadata": {
        "id": "OakwnVpFewzv"
      },
      "source": [
        "##### ***Loading library***"
      ]
    },
    {
      "cell_type": "code",
      "metadata": {
        "id": "XdmUVhl9xAKg"
      },
      "source": [
        "library(dplyr)\n",
        "library(ggplot2)"
      ],
      "execution_count": 22,
      "outputs": []
    },
    {
      "cell_type": "markdown",
      "metadata": {
        "id": "GqC2gY8rfIK-"
      },
      "source": [
        "##### ***Import results of ROH detection with Audacity***"
      ]
    },
    {
      "cell_type": "code",
      "metadata": {
        "id": "buhet4lvq2IW"
      },
      "source": [
        "AudacityROHResult<-read.delim(\"https://raw.githubusercontent.com/tgiangregorio/Medical_Genomics/main/AudacityROHresults.txt\", sep=\"\\t\", header=TRUE, na.strings = \"NA\", stringsAsFactors = T)\n",
        "head(AudacityROHResult)"
      ],
      "execution_count": null,
      "outputs": []
    },
    {
      "cell_type": "code",
      "metadata": {
        "id": "KtaV-TzgvL3j"
      },
      "source": [
        "str(AudacityROHResult)"
      ],
      "execution_count": null,
      "outputs": []
    },
    {
      "cell_type": "markdown",
      "metadata": {
        "id": "w5_RAtfCfpeo"
      },
      "source": [
        "##### ***Distributions of short and long ROH in inbred and outbred individuals***"
      ]
    },
    {
      "cell_type": "code",
      "metadata": {
        "id": "vKpv1md7urnd"
      },
      "source": [
        "options(repr.plot.width=18, repr.plot.height=12)\n",
        "\n",
        "ggplot(AudacityROHResult,aes(x =Length/1000, color=Status)) +\n",
        " geom_density(size=1) +\n",
        " xlab(\"ROH Size (Kb)\") +\n",
        " ylab(\"Density\") +\n",
        " geom_vline(aes(xintercept=150),color=\"black\",linetype=\"dashed\") +\n",
        " geom_vline(aes(xintercept=1500),color=\"black\",linetype=\"dashed\") +\n",
        " theme_linedraw() +\n",
        " theme(text=element_text(size=18,color = \"black\"),\n",
        "       legend.position=\"bottom\") +\n",
        " scale_x_continuous(breaks=c(150,1500,5000,10000,15000,20000,25000,30000,35000))"
      ],
      "execution_count": null,
      "outputs": []
    },
    {
      "cell_type": "markdown",
      "metadata": {
        "id": "Wr8tBbiq78JY"
      },
      "source": [
        "##### ***Filtering out ROH shorter than 1.5 Mb***"
      ]
    },
    {
      "cell_type": "code",
      "metadata": {
        "id": "oWl1Q0XjycXi"
      },
      "source": [
        "###filter ROH > 1.5Mb\n",
        "AudacityROHResult_1.5Mb<- AudacityROHResult %>% \n",
        "  filter(Length>=1500000)\n",
        "\n",
        "###calculate the median ROH size of each group\n",
        "ROH1.5Mb_Summary<-AudacityROHResult_1.5Mb  %>%\n",
        "group_by(Status) %>% \n",
        "summarize(median(Length),min(Length),max(Length),median(RLOD),min(RLOD),max(RLOD))\n",
        "\n",
        "ROH1.5Mb_Summary"
      ],
      "execution_count": null,
      "outputs": []
    },
    {
      "cell_type": "markdown",
      "metadata": {
        "id": "Wh5ua_e-1uUE"
      },
      "source": [
        "##### ***Distribution of ROH length over all individuals in each of the 2 cohorts (ROH class > 1.5Mb)***"
      ]
    },
    {
      "cell_type": "code",
      "metadata": {
        "id": "B2e__ILQ2ySw"
      },
      "source": [
        "options(repr.plot.width=10, repr.plot.height=10)\n",
        "ggplot(AudacityROHResult_1.5Mb, aes(x=Status,y=Length/1000, fill=Status)) +  geom_boxplot(width=0.2) +\n",
        "xlab(\"\") +\n",
        "ylab(\"ROH Size (Kb)\") +\n",
        "labs(fill = \"Cohort\") +\n",
        "theme_linedraw() +\n",
        "theme(text=element_text(size=18,color = \"black\")) + \n",
        "scale_y_continuous(breaks= c(seq(1500,35000, by=5000),3219,2226))\n"
      ],
      "execution_count": null,
      "outputs": []
    },
    {
      "cell_type": "markdown",
      "metadata": {
        "id": "ks7tDN497fNP"
      },
      "source": [
        "##### ***Distribution of ROH RLOD over all individuals in each of the 2 cohorts (ROH class > 1.5Mb)***"
      ]
    },
    {
      "cell_type": "code",
      "metadata": {
        "id": "thEV7AUpZd9I"
      },
      "source": [
        "options(repr.plot.width=10, repr.plot.height=10)\n",
        "ggplot(AudacityROHResult_1.5Mb, aes(x=Status,y=RLOD, fill=Status)) +  geom_boxplot(width=0.2) +\n",
        "xlab(\"\") +\n",
        "ylab(\"RLOD\") +\n",
        "labs(fill = \"Cohort\") +\n",
        "theme_linedraw() +\n",
        "theme(text=element_text(size=18,color = \"black\")) + \n",
        "scale_y_continuous(breaks= c(seq(50,400, by=50),23,5))"
      ],
      "execution_count": null,
      "outputs": []
    },
    {
      "cell_type": "markdown",
      "metadata": {
        "id": "CX_FWhdwy0uq"
      },
      "source": [
        "##### ***Summary of total RLOD, cumulative length and number of ROH > 1.5Mb per individual***"
      ]
    },
    {
      "cell_type": "code",
      "metadata": {
        "id": "Me3u3NwnuI1Z"
      },
      "source": [
        "ROHSummaryPerID<- AudacityROHResult_1.5Mb %>% \n",
        "  group_by(ID,  Status) %>% \n",
        "  summarize(TotalRLOD=sum(RLOD),SROH=sum(Length),NROH=n())\n",
        "\n",
        "ROHSummaryPerID"
      ],
      "execution_count": null,
      "outputs": []
    },
    {
      "cell_type": "markdown",
      "metadata": {
        "id": "039tBz8hp8KR"
      },
      "source": [
        "##### ***Plot of the cumulative length of ROH (SROH) versus the total number of ROH (NROH)***"
      ]
    },
    {
      "cell_type": "code",
      "metadata": {
        "id": "H5Plh8JcB1bo"
      },
      "source": [
        "options(repr.plot.width=8, repr.plot.height=5)\n",
        "ggplot(ROHSummaryPerID, aes(x = SROH/1000000, y = NROH)) + geom_point(aes(colour = factor(Status))) +\n",
        "theme(text=element_text(size=18,color = \"black\"))+\n",
        "xlab(\"SROH (Mb)\") +\n",
        "ylab(\"NROH\")+\n",
        "labs(colour = \"Cohort\")"
      ],
      "execution_count": null,
      "outputs": []
    },
    {
      "cell_type": "markdown",
      "metadata": {
        "id": "ZKaqHkjkfn5Y"
      },
      "source": [
        "##### ***Distribution of the NROH over all individuals in each of the 2 cohorts (ROH class > 1.5Mb)***\n"
      ]
    },
    {
      "cell_type": "code",
      "metadata": {
        "id": "Gj9wVxKB1P9s"
      },
      "source": [
        "options(repr.plot.width=10, repr.plot.height=6)\n",
        "ggplot(ROHSummaryPerID, aes(x=Status,y=NROH, fill=Status)) + geom_violin() +\n",
        "xlab(\"\") +\n",
        "ylab(\"NROH\") +\n",
        "labs(fill = \"Cohort\") +\n",
        "theme_linedraw() +\n",
        "geom_boxplot(width=0.03,color=\"black\") +\n",
        "theme(text=element_text(size=18,color = \"black\"))"
      ],
      "execution_count": null,
      "outputs": []
    },
    {
      "cell_type": "markdown",
      "metadata": {
        "id": "QvSTijuVZHKO"
      },
      "source": [
        "##### ***Distribution of the SROH over all individuals in each of the 2 cohorts (ROH class > 1.5Mb)***\n",
        "\n",
        "\n"
      ]
    },
    {
      "cell_type": "code",
      "metadata": {
        "id": "avpgR7m9hxaD"
      },
      "source": [
        "options(repr.plot.width=10, repr.plot.height=6)\n",
        "ggplot(ROHSummaryPerID, aes(x=Status,y=SROH/1000000, fill=Status)) + geom_violin() +\n",
        "xlab(\"\") +\n",
        "ylab(\"SROH (Mb)\") +\n",
        "labs(fill = \"Cohort\") +\n",
        "theme_linedraw() +\n",
        "geom_boxplot(width=0.03,color=\"black\") +\n",
        "theme(text=element_text(size=18,color = \"black\"))"
      ],
      "execution_count": null,
      "outputs": []
    },
    {
      "cell_type": "markdown",
      "metadata": {
        "id": "ekAxnXXZf-vu"
      },
      "source": [
        "##### ***Distribution of the total RLOD over all individuals in each of the 2 cohorts (ROH class > 1.5Mb)***"
      ]
    },
    {
      "cell_type": "code",
      "metadata": {
        "id": "eRe-dWTdrtA2"
      },
      "source": [
        "options(repr.plot.width=10, repr.plot.height=6)\n",
        "ggplot(ROHSummaryPerID, aes(x=Status,y=TotalRLOD, fill=Status)) + geom_violin() +\n",
        "xlab(\"\") +\n",
        "ylab(\"Total RLOD\") +\n",
        "labs(fill = \"Cohort\") +\n",
        "theme_linedraw() +\n",
        "geom_boxplot(width=0.03,color=\"black\") +\n",
        "theme(text=element_text(size=18,color = \"black\"))"
      ],
      "execution_count": null,
      "outputs": []
    }
  ]
}